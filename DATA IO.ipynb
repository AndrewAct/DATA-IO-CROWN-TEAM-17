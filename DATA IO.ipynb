{
 "cells": [
  {
   "cell_type": "markdown",
   "metadata": {},
   "source": [
    "# Data I/O \n",
    "\n",
    "##### By Andrew Chen"
   ]
  },
  {
   "cell_type": "code",
   "execution_count": 18,
   "metadata": {},
   "outputs": [],
   "source": [
    "import pandas as pd\n",
    "import matplotlib.pyplot as plt\n",
    "import numpy as np\n",
    "import sklearn\n",
    "import random\n",
    "import time\n",
    "import seaborn as sns\n",
    "from sklearn import svm, tree, linear_model, neighbors, naive_bayes, ensemble, discriminant_analysis, gaussian_process\n",
    "# from xgboost import XGBClassifier\n",
    "\n",
    "from sklearn.preprocessing import OneHotEncoder, LabelEncoder\n",
    "from sklearn import feature_selection\n",
    "from sklearn import model_selection\n",
    "from sklearn import metrics\n",
    "\n",
    "%matplotlib inline"
   ]
  },
  {
   "cell_type": "markdown",
   "metadata": {},
   "source": [
    "## Inspect the Data\n",
    "### Energy, Usage, Inspection, Impact"
   ]
  },
  {
   "cell_type": "markdown",
   "metadata": {},
   "source": [
    "### Energy"
   ]
  },
  {
   "cell_type": "code",
   "execution_count": 19,
   "metadata": {},
   "outputs": [
    {
     "name": "stdout",
     "output_type": "stream",
     "text": [
      "       id  battery_id  equipment_id battery_charge_type_txt_id  \\\n",
      "0  155578         128           NaN                        OPC   \n",
      "1  155579         128           NaN                        OPC   \n",
      "2  155581         310         772.0                        CHN   \n",
      "3  155585         310         772.0                        CHN   \n",
      "4  155589         310         772.0                        CHN   \n",
      "\n",
      "  eqlz_status_txt_id charge_start_dt  charge_start_dt_tz_id  \\\n",
      "0              NTEQL         06:00.0                    142   \n",
      "1              NTEQL         59:19.0                    142   \n",
      "2              NTEQL         18:28.0                    142   \n",
      "3              NTEQL         21:54.0                    142   \n",
      "4              NTEQL         18:50.0                    142   \n",
      "\n",
      "  charge_start_dt_wall charge_end_dt  charge_end_dt_tz_id  ...  \\\n",
      "0              06:00.0       59:02.0                  142  ...   \n",
      "1              59:19.0       20:19.0                  142  ...   \n",
      "2              18:28.0       27:47.0                  142  ...   \n",
      "3              21:54.0       35:34.0                  142  ...   \n",
      "4              18:50.0       31:33.0                  142  ...   \n",
      "\n",
      "  dischrg_start_bdi  dischrg_start_battery_volts dischrg_end_dt  \\\n",
      "0                67                         53.1        59:19.0   \n",
      "1               100                         56.0        26:33.0   \n",
      "2               100                         42.1        21:54.0   \n",
      "3                97                         41.0        18:50.0   \n",
      "4               100                         40.9        13:25.0   \n",
      "\n",
      "   dischrg_end_dt_tz_id dischrg_end_dt_wall  dischrg_end_bdi  \\\n",
      "0                   142             59:19.0               67   \n",
      "1                   142             26:33.0              100   \n",
      "2                   142             21:54.0               93   \n",
      "3                   142             18:50.0               96   \n",
      "4                   142             13:25.0               92   \n",
      "\n",
      "   dischrg_end_battery_volts dischrg_amp_hours  dischrg_work_accum_sec  \\\n",
      "0                       55.2               0.0                       0   \n",
      "1                       57.6               0.0                       0   \n",
      "2                       40.3              93.0                    4052   \n",
      "3                       40.1              30.3                    1524   \n",
      "4                       40.0              38.0                    1738   \n",
      "\n",
      "  insert_dt  \n",
      "0   04:36.0  \n",
      "1   14:16.0  \n",
      "2   36:32.0  \n",
      "3   32:40.0  \n",
      "4   25:33.0  \n",
      "\n",
      "[5 rows x 25 columns]\n"
     ]
    }
   ],
   "source": [
    "energy_data = pd.read_csv(\"/Users/chenzhuo/Desktop/Crown/energy_usage_01-2020-09-2020-2.csv\")\n",
    "print(energy_data.head())"
   ]
  },
  {
   "cell_type": "code",
   "execution_count": 20,
   "metadata": {},
   "outputs": [
    {
     "data": {
      "text/plain": [
       "Index(['id', 'battery_id', 'equipment_id', 'battery_charge_type_txt_id',\n",
       "       'eqlz_status_txt_id', 'charge_start_dt', 'charge_start_dt_tz_id',\n",
       "       'charge_start_dt_wall', 'charge_end_dt', 'charge_end_dt_tz_id',\n",
       "       'charge_end_dt_wall', 'charge_amp_hours', 'dischrg_start_dt',\n",
       "       'dischrg_start_dt_tz_id', 'dischrg_start_dt_wall', 'dischrg_start_bdi',\n",
       "       'dischrg_start_battery_volts', 'dischrg_end_dt', 'dischrg_end_dt_tz_id',\n",
       "       'dischrg_end_dt_wall', 'dischrg_end_bdi', 'dischrg_end_battery_volts',\n",
       "       'dischrg_amp_hours', 'dischrg_work_accum_sec', 'insert_dt'],\n",
       "      dtype='object')"
      ]
     },
     "execution_count": 20,
     "metadata": {},
     "output_type": "execute_result"
    }
   ],
   "source": [
    "energy_data.columns"
   ]
  },
  {
   "cell_type": "code",
   "execution_count": 21,
   "metadata": {},
   "outputs": [
    {
     "name": "stdout",
     "output_type": "stream",
     "text": [
      "The columns with null values: \n",
      " id                                 0\n",
      "battery_id                         0\n",
      "equipment_id                   18503\n",
      "battery_charge_type_txt_id         0\n",
      "eqlz_status_txt_id                 0\n",
      "charge_start_dt                    0\n",
      "charge_start_dt_tz_id              0\n",
      "charge_start_dt_wall               0\n",
      "charge_end_dt                      0\n",
      "charge_end_dt_tz_id                0\n",
      "charge_end_dt_wall                 0\n",
      "charge_amp_hours                   0\n",
      "dischrg_start_dt                   0\n",
      "dischrg_start_dt_tz_id             0\n",
      "dischrg_start_dt_wall              0\n",
      "dischrg_start_bdi                  0\n",
      "dischrg_start_battery_volts        0\n",
      "dischrg_end_dt                     0\n",
      "dischrg_end_dt_tz_id               0\n",
      "dischrg_end_dt_wall                0\n",
      "dischrg_end_bdi                    0\n",
      "dischrg_end_battery_volts          0\n",
      "dischrg_amp_hours                  0\n",
      "dischrg_work_accum_sec             0\n",
      "insert_dt                          0\n",
      "dtype: int64\n",
      "----------\n"
     ]
    }
   ],
   "source": [
    "# Evaluate the null values of numerical columns\n",
    "print(\"The columns with null values: \\n\", energy_data.isnull().sum())\n",
    "print(\"-\"*10)"
   ]
  },
  {
   "cell_type": "code",
   "execution_count": 37,
   "metadata": {},
   "outputs": [
    {
     "name": "stdout",
     "output_type": "stream",
     "text": [
      "       id  battery_id  charge_start_dt_tz_id  charge_end_dt_tz_id  \\\n",
      "0  155578         128                    142                  142   \n",
      "1  155579         128                    142                  142   \n",
      "2  155581         310                    142                  142   \n",
      "3  155585         310                    142                  142   \n",
      "4  155589         310                    142                  142   \n",
      "\n",
      "   charge_amp_hours  dischrg_start_dt_tz_id  dischrg_start_bdi  \\\n",
      "0             401.0                     142                 67   \n",
      "1             340.0                     142                100   \n",
      "2             461.0                     142                100   \n",
      "3              25.7                     142                 97   \n",
      "4              23.7                     142                100   \n",
      "\n",
      "   dischrg_start_battery_volts  dischrg_end_dt_tz_id  dischrg_end_bdi  \\\n",
      "0                         53.1                   142               67   \n",
      "1                         56.0                   142              100   \n",
      "2                         42.1                   142               93   \n",
      "3                         41.0                   142               96   \n",
      "4                         40.9                   142               92   \n",
      "\n",
      "   dischrg_end_battery_volts  dischrg_amp_hours  dischrg_work_accum_sec  \n",
      "0                       55.2                0.0                       0  \n",
      "1                       57.6                0.0                       0  \n",
      "2                       40.3               93.0                    4052  \n",
      "3                       40.1               30.3                    1524  \n",
      "4                       40.0               38.0                    1738  \n",
      "Index(['id', 'battery_id', 'charge_start_dt_tz_id', 'charge_end_dt_tz_id',\n",
      "       'charge_amp_hours', 'dischrg_start_dt_tz_id', 'dischrg_start_bdi',\n",
      "       'dischrg_start_battery_volts', 'dischrg_end_dt_tz_id',\n",
      "       'dischrg_end_bdi', 'dischrg_end_battery_volts', 'dischrg_amp_hours',\n",
      "       'dischrg_work_accum_sec'],\n",
      "      dtype='object')\n"
     ]
    }
   ],
   "source": [
    "energy_df = pd.DataFrame(energy_data)\n",
    "new_energy = energy_df.drop(['equipment_id', 'battery_charge_type_txt_id', 'eqlz_status_txt_id', 'charge_start_dt', 'charge_start_dt_wall', 'charge_end_dt', 'charge_end_dt_wall', 'dischrg_start_dt', 'dischrg_start_dt_wall', 'dischrg_end_dt', 'dischrg_end_dt_wall', 'insert_dt'], axis = 1)\n",
    "#new_energy = energy_df[['battery_id', 'charge_start_dt_tz_id', 'charge_end_dt_tz_id', 'charge_amp_hours', 'discharge_start_dt_tz_id', 'discharge_start_bdi', 'discharge_start_battery_volts', 'discharge_end_dt_tz_id', 'discharge_end_bdi', 'discharge_end_battery_volts', 'discharge_amp_hours', 'discharge_work_accum_sec']].copy()\n",
    "print(new_energy.head())\n",
    "print(new_energy.columns)"
   ]
  },
  {
   "cell_type": "markdown",
   "metadata": {},
   "source": [
    "#### Explore the Correlation"
   ]
  },
  {
   "cell_type": "code",
   "execution_count": 39,
   "metadata": {},
   "outputs": [],
   "source": [
    "#### This fucntion referred to \"A Data Science Framework: To Achieve 99% Accuracy\", credit to the author\n",
    "\n",
    "def correlation_heatmap(df):\n",
    "    _, ax = plt.subplots(figsize = (12, 12))\n",
    "    colormap = sns.diverging_palette(220, 10, as_cmap = True)\n",
    "    \n",
    "    _ = sns.heatmap(\n",
    "        df.corr(),\n",
    "        cmap = colormap,\n",
    "        square = True,\n",
    "        cbar_kws = {'shrink': 0.8},\n",
    "        ax = ax,\n",
    "        annot = True,\n",
    "        linewidths = 0.1, vmax = 1.0, linecolor = 'white', annot_kws = {'fontsize': 12})\n",
    "    \n",
    "    plt.title(\"Pearson Correlation of Features\", y = 1.05, size = 15)\n",
    "    \n"
   ]
  },
  {
   "cell_type": "markdown",
   "metadata": {},
   "source": [
    "#### Plot the Correlation Heatmap of the New Dataset of Energy"
   ]
  },
  {
   "cell_type": "code",
   "execution_count": 40,
   "metadata": {},
   "outputs": [
    {
     "data": {
      "image/png": "[encoded data removed]",
      "text/plain": [
       "<Figure size 864x864 with 2 Axes>"
      ]
     },
     "metadata": {
      "needs_background": "light"
     },
     "output_type": "display_data"
    }
   ],
   "source": [
    "correlation_heatmap(new_energy)"
   ]
  },
  {
   "cell_type": "code",
   "execution_count": null,
   "metadata": {},
   "outputs": [],
   "source": [
    "## Observe the data, id and battery id are initially associated together, so their correlation on the colormap should be omitted\n",
    "## Besides this, there are comparatively strong relationship between discharge_amp_hours, discharge_work_accum_sec\n",
    "## Discharge_start_volts and discharge_end_volts\n",
    "## Also, ther might be relationship between discharge_start_bdi and discharge_end_bdi"
   ]
  },
  {
   "cell_type": "markdown",
   "metadata": {},
   "source": [
    "### Usage"
   ]
  },
  {
   "cell_type": "code",
   "execution_count": 8,
   "metadata": {},
   "outputs": [
    {
     "name": "stdout",
     "output_type": "stream",
     "text": [
      "     'ID Serial No               Location                         Mfg.  \\\n",
      "0  120 F  9A151354  Bunker Hill Warehouse  Crown Equipment Corporation   \n",
      "1  899 F  10009678  Bunker Hill Warehouse  Crown Equipment Corporation   \n",
      "2  075 F  1A526198  Bunker Hill Warehouse  Crown Equipment Corporation   \n",
      "3  512 F  9A230845  Bunker Hill Warehouse  Crown Equipment Corporation   \n",
      "4  525 F  10064195  Bunker Hill Warehouse  Crown Equipment Corporation   \n",
      "\n",
      "     Type        Model Reading Date Reading Time Reading Timezone  Hour Meter  \\\n",
      "0      FC    FC4020-50     09/29/20  01:26:27 PM              EDT      1241.4   \n",
      "1      PR    PR4500-80     09/29/20  11:03:34 AM              EDT       607.6   \n",
      "2  RM6000  RMD6095S-32     09/29/20  02:30:27 PM              EDT       337.4   \n",
      "3    WAVE    WAV60-118     09/29/20  10:46:41 AM              EDT        87.9   \n",
      "4    WAVE    WAV60-118     09/29/20  09:30:09 AM              EDT        84.0   \n",
      "\n",
      "   Operator Logon  Equipment Idle  Equipment Meter Usage  Equipment Travel  \\\n",
      "0             7.6             2.7                    4.9               3.2   \n",
      "1            50.2            41.8                    8.4               9.5   \n",
      "2            33.9            24.6                    9.3               6.1   \n",
      "3            13.0            11.2                    1.9               0.9   \n",
      "4             6.6             5.2                    1.4               0.9   \n",
      "\n",
      "   Equipment Hydraulic  \n",
      "0                  0.6  \n",
      "1                  0.6  \n",
      "2                  1.8  \n",
      "3                  0.3  \n",
      "4                  0.1  \n"
     ]
    }
   ],
   "source": [
    "usage_data = pd.read_csv(\"/Users/chenzhuo/Desktop/Crown/EquipmentUsageDetail_01-2020-09-2020.csv\")\n",
    "print(usage_data.head())"
   ]
  },
  {
   "cell_type": "markdown",
   "metadata": {},
   "source": [
    "##### Equipment Idle: the time during which the vehicle was not moving\n",
    "##### Equipment Travel: the time during which the vehicle was moving\n",
    "##### Equipment Hydraulic: the time during which the vehicle moving up and down\n",
    "\n",
    "##### Operator Logon: time during which the operator was active, equal to equipment idle + equipment meter usage"
   ]
  },
  {
   "cell_type": "code",
   "execution_count": 14,
   "metadata": {},
   "outputs": [
    {
     "data": {
      "text/plain": [
       "Index([''ID', 'Serial No', 'Location', 'Mfg.', 'Type', 'Model', 'Reading Date',\n",
       "       'Reading Time', 'Reading Timezone', 'Hour Meter', 'Operator Logon',\n",
       "       'Equipment Idle', 'Equipment Meter Usage', 'Equipment Travel',\n",
       "       'Equipment Hydraulic'],\n",
       "      dtype='object')"
      ]
     },
     "execution_count": 14,
     "metadata": {},
     "output_type": "execute_result"
    }
   ],
   "source": [
    "usage_data.columns"
   ]
  },
  {
   "cell_type": "code",
   "execution_count": 9,
   "metadata": {},
   "outputs": [
    {
     "name": "stdout",
     "output_type": "stream",
     "text": [
      "The columns with null values: \n",
      " 'ID                      0\n",
      "Serial No                0\n",
      "Location                 0\n",
      "Mfg.                     0\n",
      "Type                     0\n",
      "Model                    0\n",
      "Reading Date             0\n",
      "Reading Time             0\n",
      "Reading Timezone         0\n",
      "Hour Meter               0\n",
      "Operator Logon           0\n",
      "Equipment Idle           0\n",
      "Equipment Meter Usage    0\n",
      "Equipment Travel         0\n",
      "Equipment Hydraulic      0\n",
      "dtype: int64\n",
      "----------\n"
     ]
    }
   ],
   "source": [
    "# Evaluate the null values \n",
    "print(\"The columns with null values: \\n\", usage_data.isnull().sum())\n",
    "print(\"-\"*10)"
   ]
  },
  {
   "cell_type": "code",
   "execution_count": null,
   "metadata": {},
   "outputs": [],
   "source": [
    "## Pretty clean dataset\n"
   ]
  },
  {
   "cell_type": "markdown",
   "metadata": {},
   "source": [
    "### Inspection"
   ]
  },
  {
   "cell_type": "code",
   "execution_count": 50,
   "metadata": {},
   "outputs": [
    {
     "name": "stdout",
     "output_type": "stream",
     "text": [
      "  Inspected By Equipment Type Equipment ID Serial Number  Inspected Date  \\\n",
      "0         3637             FC        120 F      9A151354           44075   \n",
      "1         3637             FC        120 F      9A151354           44075   \n",
      "2         3637             FC        120 F      9A151354           44075   \n",
      "3         3637             FC        120 F      9A151354           44075   \n",
      "4         3637             FC        120 F      9A151354           44075   \n",
      "\n",
      "   Inspected Time Inspected Timezone               Location  Elapsed Time  \\\n",
      "0        0.417315                EDT  Bunker Hill Warehouse       0.00213   \n",
      "1        0.417315                EDT  Bunker Hill Warehouse       0.00213   \n",
      "2        0.417315                EDT  Bunker Hill Warehouse       0.00213   \n",
      "3        0.417315                EDT  Bunker Hill Warehouse       0.00213   \n",
      "4        0.417315                EDT  Bunker Hill Warehouse       0.00213   \n",
      "\n",
      "              Result  Questions Failed Generated Lock         Type  No.  \\\n",
      "0  Inspection Passed                 0             No  After Login    1   \n",
      "1  Inspection Passed                 0             No  After Login    2   \n",
      "2  Inspection Passed                 0             No  After Login    3   \n",
      "3  Inspection Passed                 0             No  After Login    4   \n",
      "4  Inspection Passed                 0             No  After Login    5   \n",
      "\n",
      "                                   Question Expected Answer Answer Received  \\\n",
      "0                        Leaks Any Visible?              No              No   \n",
      "1        Tires & Wheels Any Visible Damage?              No              No   \n",
      "2                 Forks Any Visible Damage?              No              No   \n",
      "3        Safety Devices Any Malfunctioning?              No              No   \n",
      "4  Chains, Cables Hoses Any Visible Damage?              No              No   \n",
      "\n",
      "  Pass / Fail  \n",
      "0      Passed  \n",
      "1      Passed  \n",
      "2      Passed  \n",
      "3      Passed  \n",
      "4      Passed  \n"
     ]
    }
   ],
   "source": [
    "inspection_data = pd.read_csv(\"/Users/chenzhuo/Desktop/Crown/EquipmentInspectionDetails_01-2020-09-2020.csv\")\n",
    "print(inspection_data.head())"
   ]
  },
  {
   "cell_type": "code",
   "execution_count": 12,
   "metadata": {},
   "outputs": [
    {
     "data": {
      "text/plain": [
       "Index(['Inspected By', 'Equipment Type', 'Equipment ID', 'Serial Number',\n",
       "       'Inspected Date', 'Inspected Time', 'Inspected Timezone', 'Location',\n",
       "       'Elapsed Time', 'Result', 'Questions Failed', 'Generated Lock', 'Type',\n",
       "       'No.', 'Question', 'Expected Answer', 'Answer Received', 'Pass / Fail'],\n",
       "      dtype='object')"
      ]
     },
     "execution_count": 12,
     "metadata": {},
     "output_type": "execute_result"
    }
   ],
   "source": [
    "inspection_data.columns"
   ]
  },
  {
   "cell_type": "code",
   "execution_count": 11,
   "metadata": {},
   "outputs": [
    {
     "name": "stdout",
     "output_type": "stream",
     "text": [
      "The columns with null values: \n",
      " Inspected By          2472\n",
      "Equipment Type           0\n",
      "Equipment ID             0\n",
      "Serial Number            0\n",
      "Inspected Date           0\n",
      "Inspected Time           0\n",
      "Inspected Timezone       0\n",
      "Location                 0\n",
      "Elapsed Time             0\n",
      "Result                   0\n",
      "Questions Failed         0\n",
      "Generated Lock        4970\n",
      "Type                     0\n",
      "No.                      0\n",
      "Question                 0\n",
      "Expected Answer          0\n",
      "Answer Received          0\n",
      "Pass / Fail           4970\n",
      "dtype: int64\n",
      "----------\n"
     ]
    }
   ],
   "source": [
    "# Evaluate the null values \n",
    "print(\"The columns with null values: \\n\", inspection_data.isnull().sum())\n",
    "print(\"-\"*10)"
   ]
  },
  {
   "cell_type": "markdown",
   "metadata": {},
   "source": [
    "##### Note:\n",
    "##### The X and Y mean the directions of the truck"
   ]
  },
  {
   "cell_type": "markdown",
   "metadata": {},
   "source": [
    "### Impact "
   ]
  },
  {
   "cell_type": "code",
   "execution_count": 70,
   "metadata": {},
   "outputs": [
    {
     "name": "stdout",
     "output_type": "stream",
     "text": [
      "      ID Serial No Equipment Type               Location Employee No.  \\\n",
      "0  899 F  10009678             PR  Bunker Hill Warehouse         3637   \n",
      "1  179 F  1A544983         RC5500                 Celina        17560   \n",
      "2  052 F  1A446908         RM6000                 Celina        27623   \n",
      "3  150 F  9A229806             SC                 Celina        56045   \n",
      "4  150 F  9A229806             SC                 Celina          680   \n",
      "\n",
      "  Impact Date  Impact Time Impact Timezone            AP  Type  ...  \\\n",
      "0    9/9/2020  10:51:07 AM             EDT        *BU 01  High  ...   \n",
      "1   9/14/2020   7:30:34 AM             EDT  Out of Range  High  ...   \n",
      "2   9/12/2020   4:00:31 AM             EDT  AC4A679C04E0   Low  ...   \n",
      "3   9/10/2020   5:14:03 PM             EDT  00A742B5A4FC  High  ...   \n",
      "4    9/4/2020  12:09:21 PM             EDT     *CEL SS70  High  ...   \n",
      "\n",
      "   Impulse Threshold  Impulse Captured  Locked  Lock Cleared Date  \\\n",
      "0               20.0              59.0     NaN                NaN   \n",
      "1               15.0              23.0     NaN                NaN   \n",
      "2               20.0              23.0     NaN                NaN   \n",
      "3               15.0              16.0     NaN                NaN   \n",
      "4               15.0              16.0     NaN                NaN   \n",
      "\n",
      "   Lock Cleared Time  Lock Cleared Timezone Acknowledged Date  \\\n",
      "0                NaN                    NaN               NaN   \n",
      "1                NaN                    NaN         9/21/2020   \n",
      "2                NaN                    NaN         9/12/2020   \n",
      "3                NaN                    NaN         9/10/2020   \n",
      "4                NaN                    NaN          9/4/2020   \n",
      "\n",
      "  Acknowledged Time Acknowledged Timezone  \\\n",
      "0               NaN                   NaN   \n",
      "1       12:30:51 PM                   EDT   \n",
      "2        4:00:35 AM                   EDT   \n",
      "3        5:20:40 PM                   EDT   \n",
      "4       12:18:32 PM                   EDT   \n",
      "\n",
      "                                            Comments  \n",
      "0                                                NaN  \n",
      "1                  John was coming out of a trailer.  \n",
      "2                        Auto Acknowledged by System  \n",
      "3  Monica is having issues with the impact alarm ...  \n",
      "4                                         No Comment  \n",
      "\n",
      "[5 rows x 24 columns]\n"
     ]
    }
   ],
   "source": [
    "impact_data = pd.read_csv(\"/Users/chenzhuo/Desktop/Crown/EquipmentImpacts_01-2020-09-2020.csv\")\n",
    "print(impact_data.head())"
   ]
  },
  {
   "cell_type": "code",
   "execution_count": 71,
   "metadata": {},
   "outputs": [
    {
     "data": {
      "text/plain": [
       "Index(['ID', 'Serial No', 'Equipment Type', 'Location', 'Employee No.',\n",
       "       'Impact Date', 'Impact Time', 'Impact Timezone', 'AP', 'Type',\n",
       "       'X-Axis Threshold', 'X-Axis Captured', 'Y-Axis Threshold',\n",
       "       'Y-Axis Captured', 'Impulse Threshold', 'Impulse Captured', 'Locked',\n",
       "       'Lock Cleared Date', 'Lock Cleared Time', 'Lock Cleared Timezone',\n",
       "       'Acknowledged Date', 'Acknowledged Time', 'Acknowledged Timezone',\n",
       "       'Comments'],\n",
       "      dtype='object')"
      ]
     },
     "execution_count": 71,
     "metadata": {},
     "output_type": "execute_result"
    }
   ],
   "source": [
    "impact_data.columns"
   ]
  },
  {
   "cell_type": "code",
   "execution_count": 72,
   "metadata": {},
   "outputs": [
    {
     "name": "stdout",
     "output_type": "stream",
     "text": [
      "The columns with null values: \n",
      " ID                           0\n",
      "Serial No                    0\n",
      "Equipment Type               0\n",
      "Location                     0\n",
      "Employee No.                 3\n",
      "Impact Date                  0\n",
      "Impact Time                  0\n",
      "Impact Timezone              0\n",
      "AP                          24\n",
      "Type                         0\n",
      "X-Axis Threshold             0\n",
      "X-Axis Captured              0\n",
      "Y-Axis Threshold             0\n",
      "Y-Axis Captured              0\n",
      "Impulse Threshold         2566\n",
      "Impulse Captured          2566\n",
      "Locked                   15688\n",
      "Lock Cleared Date        15688\n",
      "Lock Cleared Time        15688\n",
      "Lock Cleared Timezone    15688\n",
      "Acknowledged Date          742\n",
      "Acknowledged Time          742\n",
      "Acknowledged Timezone      742\n",
      "Comments                   742\n",
      "dtype: int64\n",
      "----------\n"
     ]
    }
   ],
   "source": [
    "# Evaluate the null values of numerical columns\n",
    "print(\"The columns with null values: \\n\", impact_data.isnull().sum())\n",
    "print(\"-\"*10)"
   ]
  },
  {
   "cell_type": "code",
   "execution_count": 73,
   "metadata": {},
   "outputs": [
    {
     "name": "stdout",
     "output_type": "stream",
     "text": [
      "      ID Serial No Equipment Type               Location Employee No.  \\\n",
      "0  899 F  10009678             PR  Bunker Hill Warehouse         3637   \n",
      "1  179 F  1A544983         RC5500                 Celina        17560   \n",
      "2  052 F  1A446908         RM6000                 Celina        27623   \n",
      "3  150 F  9A229806             SC                 Celina        56045   \n",
      "4  150 F  9A229806             SC                 Celina          680   \n",
      "\n",
      "  Impact Date  Impact Time Impact Timezone            AP  Type  ...  \\\n",
      "0    9/9/2020  10:51:07 AM             EDT        *BU 01  High  ...   \n",
      "1   9/14/2020   7:30:34 AM             EDT  Out of Range  High  ...   \n",
      "2   9/12/2020   4:00:31 AM             EDT  AC4A679C04E0   Low  ...   \n",
      "3   9/10/2020   5:14:03 PM             EDT  00A742B5A4FC  High  ...   \n",
      "4    9/4/2020  12:09:21 PM             EDT     *CEL SS70  High  ...   \n",
      "\n",
      "   Impulse Threshold  Impulse Captured  Locked  Lock Cleared Date  \\\n",
      "0               20.0              59.0     NaN                NaN   \n",
      "1               15.0              23.0     NaN                NaN   \n",
      "2               20.0              23.0     NaN                NaN   \n",
      "3               15.0              16.0     NaN                NaN   \n",
      "4               15.0              16.0     NaN                NaN   \n",
      "\n",
      "   Lock Cleared Time  Lock Cleared Timezone Acknowledged Date  \\\n",
      "0                NaN                    NaN               NaN   \n",
      "1                NaN                    NaN         9/21/2020   \n",
      "2                NaN                    NaN         9/12/2020   \n",
      "3                NaN                    NaN         9/10/2020   \n",
      "4                NaN                    NaN          9/4/2020   \n",
      "\n",
      "  Acknowledged Time Acknowledged Timezone  \\\n",
      "0               NaN                   NaN   \n",
      "1       12:30:51 PM                   EDT   \n",
      "2        4:00:35 AM                   EDT   \n",
      "3        5:20:40 PM                   EDT   \n",
      "4       12:18:32 PM                   EDT   \n",
      "\n",
      "                                            Comments  \n",
      "0                                                NaN  \n",
      "1                  John was coming out of a trailer.  \n",
      "2                        Auto Acknowledged by System  \n",
      "3  Monica is having issues with the impact alarm ...  \n",
      "4                                         No Comment  \n",
      "\n",
      "[5 rows x 24 columns]\n",
      "Index(['ID', 'Serial No', 'Equipment Type', 'Location', 'Employee No.',\n",
      "       'Impact Date', 'Impact Time', 'Impact Timezone', 'AP', 'Type',\n",
      "       'X-Axis Threshold', 'X-Axis Captured', 'Y-Axis Threshold',\n",
      "       'Y-Axis Captured', 'Impulse Threshold', 'Impulse Captured', 'Locked',\n",
      "       'Lock Cleared Date', 'Lock Cleared Time', 'Lock Cleared Timezone',\n",
      "       'Acknowledged Date', 'Acknowledged Time', 'Acknowledged Timezone',\n",
      "       'Comments'],\n",
      "      dtype='object')\n"
     ]
    }
   ],
   "source": [
    "impact_df = pd.DataFrame(impact_data)\n",
    "print(impact_df.head())\n",
    "print(impact_df.columns)\n"
   ]
  },
  {
   "cell_type": "code",
   "execution_count": 74,
   "metadata": {},
   "outputs": [
    {
     "name": "stdout",
     "output_type": "stream",
     "text": [
      "<bound method NDFrame.describe of           ID Serial No Equipment Type               Location Employee No.  \\\n",
      "0      899 F  10009678             PR  Bunker Hill Warehouse         3637   \n",
      "1      179 F  1A544983         RC5500                 Celina        17560   \n",
      "2      052 F  1A446908         RM6000                 Celina        27623   \n",
      "3      150 F  9A229806             SC                 Celina        56045   \n",
      "4      150 F  9A229806             SC                 Celina          680   \n",
      "...      ...       ...            ...                    ...          ...   \n",
      "16093  659 I  7A292659             WP                   Troy        24814   \n",
      "16094  827 I  7A259017             WP                   Troy         2761   \n",
      "16095  838 I  7A275443             WP                   Troy        24128   \n",
      "16096  963 I  7A272819             WP                   Troy        17341   \n",
      "16097  963 I  7A272819             WP                   Troy         2761   \n",
      "\n",
      "      Impact Date  Impact Time Impact Timezone            AP  Type  ...  \\\n",
      "0        9/9/2020  10:51:07 AM             EDT        *BU 01  High  ...   \n",
      "1       9/14/2020   7:30:34 AM             EDT  Out of Range  High  ...   \n",
      "2       9/12/2020   4:00:31 AM             EDT  AC4A679C04E0   Low  ...   \n",
      "3       9/10/2020   5:14:03 PM             EDT  00A742B5A4FC  High  ...   \n",
      "4        9/4/2020  12:09:21 PM             EDT     *CEL SS70  High  ...   \n",
      "...           ...          ...             ...           ...   ...  ...   \n",
      "16093   1/30/2020  11:55:07 AM             EST   *TRY Assy 2  High  ...   \n",
      "16094   1/20/2020  10:22:32 AM             EST   *TRY Assy 2  High  ...   \n",
      "16095   1/16/2020   7:28:21 AM             EST   *TRY Assy 2  High  ...   \n",
      "16096   1/14/2020   7:46:36 AM             EST      Troy 005  High  ...   \n",
      "16097   1/14/2020   7:49:52 AM             EST      Troy 005  High  ...   \n",
      "\n",
      "       Impulse Threshold  Impulse Captured  Locked  Lock Cleared Date  \\\n",
      "0                   20.0              59.0     NaN                NaN   \n",
      "1                   15.0              23.0     NaN                NaN   \n",
      "2                   20.0              23.0     NaN                NaN   \n",
      "3                   15.0              16.0     NaN                NaN   \n",
      "4                   15.0              16.0     NaN                NaN   \n",
      "...                  ...               ...     ...                ...   \n",
      "16093                NaN               NaN     NaN                NaN   \n",
      "16094                NaN               NaN     NaN                NaN   \n",
      "16095                NaN               NaN     NaN                NaN   \n",
      "16096                NaN               NaN     NaN                NaN   \n",
      "16097                NaN               NaN     NaN                NaN   \n",
      "\n",
      "       Lock Cleared Time  Lock Cleared Timezone Acknowledged Date  \\\n",
      "0                    NaN                    NaN               NaN   \n",
      "1                    NaN                    NaN         9/21/2020   \n",
      "2                    NaN                    NaN         9/12/2020   \n",
      "3                    NaN                    NaN         9/10/2020   \n",
      "4                    NaN                    NaN          9/4/2020   \n",
      "...                  ...                    ...               ...   \n",
      "16093                NaN                    NaN         1/30/2020   \n",
      "16094                NaN                    NaN         1/20/2020   \n",
      "16095                NaN                    NaN         1/16/2020   \n",
      "16096                NaN                    NaN          3/2/2020   \n",
      "16097                NaN                    NaN         1/14/2020   \n",
      "\n",
      "      Acknowledged Time Acknowledged Timezone  \\\n",
      "0                   NaN                   NaN   \n",
      "1           12:30:51 PM                   EDT   \n",
      "2            4:00:35 AM                   EDT   \n",
      "3            5:20:40 PM                   EDT   \n",
      "4           12:18:32 PM                   EDT   \n",
      "...                 ...                   ...   \n",
      "16093        3:16:45 PM                   EST   \n",
      "16094       10:54:59 AM                   EST   \n",
      "16095        8:43:29 AM                   EST   \n",
      "16096        7:30:45 AM                   EST   \n",
      "16097       10:00:33 AM                   EST   \n",
      "\n",
      "                                                Comments  \n",
      "0                                                    NaN  \n",
      "1                      John was coming out of a trailer.  \n",
      "2                            Auto Acknowledged by System  \n",
      "3      Monica is having issues with the impact alarm ...  \n",
      "4                                             No Comment  \n",
      "...                                                  ...  \n",
      "16093  The operator was moving the engine and the bui...  \n",
      "16094  The operator was moving the engine in to the d...  \n",
      "16095  The operator was moving the engine up the ramp...  \n",
      "16096                                         No Comment  \n",
      "16097  The operator was moving the WP in to the block...  \n",
      "\n",
      "[16098 rows x 24 columns]>\n"
     ]
    }
   ],
   "source": [
    "print(impact_df.describe)"
   ]
  },
  {
   "cell_type": "code",
   "execution_count": 79,
   "metadata": {},
   "outputs": [
    {
     "name": "stdout",
     "output_type": "stream",
     "text": [
      "<bound method NDFrame.head of 0        Bunker Hill Warehouse\n",
      "1                       Celina\n",
      "2                       Celina\n",
      "3                       Celina\n",
      "4                       Celina\n",
      "                 ...          \n",
      "16093                     Troy\n",
      "16094                     Troy\n",
      "16095                     Troy\n",
      "16096                     Troy\n",
      "16097                     Troy\n",
      "Name: Location, Length: 16098, dtype: object>\n",
      "<bound method IndexOpsMixin.nunique of 0            PR\n",
      "1        RC5500\n",
      "2        RM6000\n",
      "3            SC\n",
      "4            SC\n",
      "          ...  \n",
      "16093        WP\n",
      "16094        WP\n",
      "16095        WP\n",
      "16096        WP\n",
      "16097        WP\n",
      "Name: Equipment Type, Length: 16098, dtype: object>\n"
     ]
    }
   ],
   "source": [
    "print(impact_df['Location'].head)\n",
    "\n",
    "#print(impact_df['Location'].unique)"
   ]
  },
  {
   "cell_type": "code",
   "execution_count": 83,
   "metadata": {},
   "outputs": [
    {
     "name": "stdout",
     "output_type": "stream",
     "text": [
      "      ID Serial No Equipment Type               Location Employee No.  \\\n",
      "0  899 F  10009678             PR  Bunker Hill Warehouse         3637   \n",
      "1  179 F  1A544983         RC5500                 Celina        17560   \n",
      "2  052 F  1A446908         RM6000                 Celina        27623   \n",
      "3  150 F  9A229806             SC                 Celina        56045   \n",
      "4  150 F  9A229806             SC                 Celina          680   \n",
      "\n",
      "  Impact Date  Impact Time Impact Timezone            AP  Type  ...  \\\n",
      "0    9/9/2020  10:51:07 AM             EDT        *BU 01  High  ...   \n",
      "1   9/14/2020   7:30:34 AM             EDT  Out of Range  High  ...   \n",
      "2   9/12/2020   4:00:31 AM             EDT  AC4A679C04E0   Low  ...   \n",
      "3   9/10/2020   5:14:03 PM             EDT  00A742B5A4FC  High  ...   \n",
      "4    9/4/2020  12:09:21 PM             EDT     *CEL SS70  High  ...   \n",
      "\n",
      "   Impulse Captured  Locked  Lock Cleared Date  Lock Cleared Time  \\\n",
      "0              59.0     NaN                NaN                NaN   \n",
      "1              23.0     NaN                NaN                NaN   \n",
      "2              23.0     NaN                NaN                NaN   \n",
      "3              16.0     NaN                NaN                NaN   \n",
      "4              16.0     NaN                NaN                NaN   \n",
      "\n",
      "   Lock Cleared Timezone  Acknowledged Date Acknowledged Time  \\\n",
      "0                    NaN                NaN               NaN   \n",
      "1                    NaN          9/21/2020       12:30:51 PM   \n",
      "2                    NaN          9/12/2020        4:00:35 AM   \n",
      "3                    NaN          9/10/2020        5:20:40 PM   \n",
      "4                    NaN           9/4/2020       12:18:32 PM   \n",
      "\n",
      "  Acknowledged Timezone                                           Comments  \\\n",
      "0                   NaN                                                NaN   \n",
      "1                   EDT                  John was coming out of a trailer.   \n",
      "2                   EDT                        Auto Acknowledged by System   \n",
      "3                   EDT  Monica is having issues with the impact alarm ...   \n",
      "4                   EDT                                         No Comment   \n",
      "\n",
      "  EType_Cat  \n",
      "0         6  \n",
      "1         9  \n",
      "2        10  \n",
      "3        12  \n",
      "4        12  \n",
      "\n",
      "[5 rows x 25 columns]\n"
     ]
    }
   ],
   "source": [
    "impact_df['EType_Cat'] = impact_df['Equipment Type'].astype('category')\n",
    "impact_df['EType_Cat'] = impact_df['EType_Cat'].cat.codes\n",
    "print(impact_df.head())\n"
   ]
  },
  {
   "cell_type": "code",
   "execution_count": 84,
   "metadata": {},
   "outputs": [
    {
     "name": "stdout",
     "output_type": "stream",
     "text": [
      "<bound method IndexOpsMixin.nunique of 0         6\n",
      "1         9\n",
      "2        10\n",
      "3        12\n",
      "4        12\n",
      "         ..\n",
      "16093    21\n",
      "16094    21\n",
      "16095    21\n",
      "16096    21\n",
      "16097    21\n",
      "Name: EType_Cat, Length: 16098, dtype: int8>\n"
     ]
    }
   ],
   "source": [
    "print(impact_df['EType_Cat'].nunique)"
   ]
  },
  {
   "cell_type": "code",
   "execution_count": 85,
   "metadata": {},
   "outputs": [
    {
     "name": "stdout",
     "output_type": "stream",
     "text": [
      "      ID Serial No Equipment Type               Location Employee No.  \\\n",
      "0  899 F  10009678             PR  Bunker Hill Warehouse         3637   \n",
      "1  179 F  1A544983         RC5500                 Celina        17560   \n",
      "2  052 F  1A446908         RM6000                 Celina        27623   \n",
      "3  150 F  9A229806             SC                 Celina        56045   \n",
      "4  150 F  9A229806             SC                 Celina          680   \n",
      "\n",
      "  Impact Date  Impact Time Impact Timezone            AP  Type  ...  Locked  \\\n",
      "0    9/9/2020  10:51:07 AM             EDT        *BU 01  High  ...     NaN   \n",
      "1   9/14/2020   7:30:34 AM             EDT  Out of Range  High  ...     NaN   \n",
      "2   9/12/2020   4:00:31 AM             EDT  AC4A679C04E0   Low  ...     NaN   \n",
      "3   9/10/2020   5:14:03 PM             EDT  00A742B5A4FC  High  ...     NaN   \n",
      "4    9/4/2020  12:09:21 PM             EDT     *CEL SS70  High  ...     NaN   \n",
      "\n",
      "   Lock Cleared Date  Lock Cleared Time  Lock Cleared Timezone  \\\n",
      "0                NaN                NaN                    NaN   \n",
      "1                NaN                NaN                    NaN   \n",
      "2                NaN                NaN                    NaN   \n",
      "3                NaN                NaN                    NaN   \n",
      "4                NaN                NaN                    NaN   \n",
      "\n",
      "   Acknowledged Date  Acknowledged Time Acknowledged Timezone  \\\n",
      "0                NaN                NaN                   NaN   \n",
      "1          9/21/2020        12:30:51 PM                   EDT   \n",
      "2          9/12/2020         4:00:35 AM                   EDT   \n",
      "3          9/10/2020         5:20:40 PM                   EDT   \n",
      "4           9/4/2020        12:18:32 PM                   EDT   \n",
      "\n",
      "                                            Comments EType_Cat Type_Cat  \n",
      "0                                                NaN         6        0  \n",
      "1                  John was coming out of a trailer.         9        0  \n",
      "2                        Auto Acknowledged by System        10        1  \n",
      "3  Monica is having issues with the impact alarm ...        12        0  \n",
      "4                                         No Comment        12        0  \n",
      "\n",
      "[5 rows x 26 columns]\n"
     ]
    }
   ],
   "source": [
    "impact_df['Type'] = impact_df['Type'].astype('category')\n",
    "impact_df['Type_Cat'] = impact_df['Type'].cat.codes\n",
    "print(impact_df.head())"
   ]
  },
  {
   "cell_type": "code",
   "execution_count": 86,
   "metadata": {},
   "outputs": [],
   "source": [
    "drop_columns = ['ID','Serial No', 'Equipment Type', 'Location', 'Employee No.',\n",
    "       'Impact Date', 'Impact Time', 'Impact Timezone', 'AP','Locked',\n",
    "       'Lock Cleared Date', 'Lock Cleared Time', 'Lock Cleared Timezone',\n",
    "       'Acknowledged Date', 'Acknowledged Time', 'Acknowledged Timezone',\n",
    "       'Comments']\n",
    "impact_df.drop(drop_columns, axis = 1, inplace = True)"
   ]
  },
  {
   "cell_type": "code",
   "execution_count": 87,
   "metadata": {
    "scrolled": true
   },
   "outputs": [
    {
     "name": "stdout",
     "output_type": "stream",
     "text": [
      "16098\n"
     ]
    }
   ],
   "source": [
    "type_size = impact_df['Type'].size\n",
    "print(type_size)"
   ]
  },
  {
   "cell_type": "code",
   "execution_count": 88,
   "metadata": {},
   "outputs": [
    {
     "data": {
      "image/png": "[encoded data removed]",
      "text/plain": [
       "<Figure size 864x864 with 2 Axes>"
      ]
     },
     "metadata": {
      "needs_background": "light"
     },
     "output_type": "display_data"
    }
   ],
   "source": [
    "correlation_heatmap(impact_df)"
   ]
  },
  {
   "cell_type": "code",
   "execution_count": null,
   "metadata": {},
   "outputs": [],
   "source": []
  }
 ],
 "metadata": {
  "kernelspec": {
   "display_name": "Python 3",
   "language": "python",
   "name": "python3"
  },
  "language_info": {
   "codemirror_mode": {
    "name": "ipython",
    "version": 3
   },
   "file_extension": ".py",
   "mimetype": "text/x-python",
   "name": "python",
   "nbconvert_exporter": "python",
   "pygments_lexer": "ipython3",
   "version": "3.8.1"
  }
 },
 "nbformat": 4,
 "nbformat_minor": 4
}
